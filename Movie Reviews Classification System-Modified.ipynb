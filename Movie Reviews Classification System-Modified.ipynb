{
 "cells": [
  {
   "cell_type": "markdown",
   "metadata": {},
   "source": [
    "# Movie Review Sentiment Analysis"
   ]
  },
  {
   "cell_type": "code",
   "execution_count": 1,
   "metadata": {
    "ExecuteTime": {
     "end_time": "2020-10-03T08:27:32.326534Z",
     "start_time": "2020-10-03T08:27:30.015358Z"
    }
   },
   "outputs": [],
   "source": [
    "import numpy as np\n",
    "import pandas as pd\n",
    "import matplotlib.pyplot as plt\n",
    "import seaborn as sns\n",
    "sns.set_style('whitegrid')"
   ]
  },
  {
   "cell_type": "code",
   "execution_count": 2,
   "metadata": {
    "ExecuteTime": {
     "end_time": "2020-10-03T08:27:32.595814Z",
     "start_time": "2020-10-03T08:27:32.329527Z"
    }
   },
   "outputs": [],
   "source": [
    "df1 = pd.read_csv('Data/moviereviews.tsv', sep='\\t')\n",
    "df2 = pd.read_csv('Data/moviereviews2.tsv', sep='\\t')\n",
    "df=pd.concat([df1,df2])"
   ]
  },
  {
   "cell_type": "code",
   "execution_count": 3,
   "metadata": {
    "ExecuteTime": {
     "end_time": "2020-10-03T08:27:32.618753Z",
     "start_time": "2020-10-03T08:27:32.598806Z"
    }
   },
   "outputs": [
    {
     "name": "stdout",
     "output_type": "stream",
     "text": [
      "<class 'pandas.core.frame.DataFrame'>\n",
      "Int64Index: 8000 entries, 0 to 5999\n",
      "Data columns (total 2 columns):\n",
      " #   Column  Non-Null Count  Dtype \n",
      "---  ------  --------------  ----- \n",
      " 0   label   8000 non-null   object\n",
      " 1   review  7945 non-null   object\n",
      "dtypes: object(2)\n",
      "memory usage: 187.5+ KB\n"
     ]
    }
   ],
   "source": [
    "df.info()"
   ]
  },
  {
   "cell_type": "code",
   "execution_count": 4,
   "metadata": {
    "ExecuteTime": {
     "end_time": "2020-10-03T08:27:32.742422Z",
     "start_time": "2020-10-03T08:27:32.622742Z"
    }
   },
   "outputs": [
    {
     "data": {
      "text/plain": [
       "label      0\n",
       "review    55\n",
       "dtype: int64"
      ]
     },
     "execution_count": 4,
     "metadata": {},
     "output_type": "execute_result"
    }
   ],
   "source": [
    "df.isnull().sum()"
   ]
  },
  {
   "cell_type": "code",
   "execution_count": 5,
   "metadata": {
    "ExecuteTime": {
     "end_time": "2020-10-03T08:27:32.872075Z",
     "start_time": "2020-10-03T08:27:32.745415Z"
    }
   },
   "outputs": [],
   "source": [
    "df.dropna(inplace=True)"
   ]
  },
  {
   "cell_type": "code",
   "execution_count": 6,
   "metadata": {
    "ExecuteTime": {
     "end_time": "2020-10-03T08:27:32.990759Z",
     "start_time": "2020-10-03T08:27:32.874070Z"
    }
   },
   "outputs": [],
   "source": [
    "senti=df[\"label\"].value_counts()"
   ]
  },
  {
   "cell_type": "code",
   "execution_count": 7,
   "metadata": {
    "ExecuteTime": {
     "end_time": "2020-10-03T08:27:33.420609Z",
     "start_time": "2020-10-03T08:27:32.993751Z"
    }
   },
   "outputs": [
    {
     "data": {
      "image/png": "[encoded data removed]",
      "text/plain": [
       "<Figure size 432x288 with 1 Axes>"
      ]
     },
     "metadata": {},
     "output_type": "display_data"
    }
   ],
   "source": [
    "sns.countplot(df[\"label\"])\n",
    "count=0\n",
    "for i in senti.values:\n",
    "    plt.text(count,i+10,str(i))\n",
    "    count+=1"
   ]
  },
  {
   "cell_type": "code",
   "execution_count": 8,
   "metadata": {
    "ExecuteTime": {
     "end_time": "2020-10-03T08:27:33.461498Z",
     "start_time": "2020-10-03T08:27:33.425597Z"
    }
   },
   "outputs": [],
   "source": [
    "#remove blank strings\n",
    "blanks = []\n",
    "for i,lb,rv in df.itertuples():\n",
    "    if type(rv)==str:\n",
    "        if rv.isspace():\n",
    "            blanks.append(i)\n",
    "df.drop(blanks, inplace=True)"
   ]
  },
  {
   "cell_type": "code",
   "execution_count": 9,
   "metadata": {
    "ExecuteTime": {
     "end_time": "2020-10-03T08:27:33.617086Z",
     "start_time": "2020-10-03T08:27:33.464491Z"
    }
   },
   "outputs": [],
   "source": [
    "d=df.groupby(\"label\")[\"review\"].apply(lambda col: ''.join(col))"
   ]
  },
  {
   "cell_type": "code",
   "execution_count": 10,
   "metadata": {
    "ExecuteTime": {
     "end_time": "2020-10-03T08:27:33.872400Z",
     "start_time": "2020-10-03T08:27:33.620077Z"
    }
   },
   "outputs": [
    {
     "data": {
      "text/plain": [
       "label\n",
       "neg    how do films like mouse hunt get into theatres...\n",
       "pos    this has been an extraordinary year for austra...\n",
       "Name: review, dtype: object"
      ]
     },
     "execution_count": 10,
     "metadata": {},
     "output_type": "execute_result"
    }
   ],
   "source": [
    "d"
   ]
  },
  {
   "cell_type": "code",
   "execution_count": 11,
   "metadata": {
    "ExecuteTime": {
     "end_time": "2020-10-03T08:27:34.244405Z",
     "start_time": "2020-10-03T08:27:33.875392Z"
    }
   },
   "outputs": [
    {
     "data": {
      "text/plain": [
       "1203796"
      ]
     },
     "execution_count": 11,
     "metadata": {},
     "output_type": "execute_result"
    }
   ],
   "source": [
    "len(d[\"neg\"].split())"
   ]
  },
  {
   "cell_type": "code",
   "execution_count": 12,
   "metadata": {
    "ExecuteTime": {
     "end_time": "2020-10-03T08:27:34.388022Z",
     "start_time": "2020-10-03T08:27:34.247398Z"
    }
   },
   "outputs": [],
   "source": [
    "from collections import Counter "
   ]
  },
  {
   "cell_type": "code",
   "execution_count": 13,
   "metadata": {
    "ExecuteTime": {
     "end_time": "2020-10-03T08:27:35.094133Z",
     "start_time": "2020-10-03T08:27:34.391014Z"
    }
   },
   "outputs": [],
   "source": [
    "d_neg=dict(Counter(d[\"neg\"].split()))"
   ]
  },
  {
   "cell_type": "code",
   "execution_count": 14,
   "metadata": {
    "ExecuteTime": {
     "end_time": "2020-10-03T08:27:35.229771Z",
     "start_time": "2020-10-03T08:27:35.097126Z"
    }
   },
   "outputs": [
    {
     "data": {
      "text/plain": [
       "78195"
      ]
     },
     "execution_count": 14,
     "metadata": {},
     "output_type": "execute_result"
    }
   ],
   "source": [
    "len(d_neg.keys())"
   ]
  },
  {
   "cell_type": "code",
   "execution_count": 15,
   "metadata": {
    "ExecuteTime": {
     "end_time": "2020-10-03T08:27:36.005696Z",
     "start_time": "2020-10-03T08:27:35.232765Z"
    }
   },
   "outputs": [],
   "source": [
    "d_pos=dict(Counter(d[\"pos\"].split()))"
   ]
  },
  {
   "cell_type": "code",
   "execution_count": 16,
   "metadata": {
    "ExecuteTime": {
     "end_time": "2020-10-03T08:27:36.167264Z",
     "start_time": "2020-10-03T08:27:36.007691Z"
    }
   },
   "outputs": [
    {
     "data": {
      "text/plain": [
       "79479"
      ]
     },
     "execution_count": 16,
     "metadata": {},
     "output_type": "execute_result"
    }
   ],
   "source": [
    "len(d_pos.keys())"
   ]
  },
  {
   "cell_type": "code",
   "execution_count": 17,
   "metadata": {
    "ExecuteTime": {
     "end_time": "2020-10-03T08:27:36.419590Z",
     "start_time": "2020-10-03T08:27:36.170256Z"
    }
   },
   "outputs": [],
   "source": [
    "from sklearn.model_selection import train_test_split\n",
    "X = df['review']\n",
    "y = df['label']\n",
    "X_train, X_test, y_train, y_test = train_test_split(X, y, test_size=0.2, random_state=42)"
   ]
  },
  {
   "cell_type": "code",
   "execution_count": 18,
   "metadata": {
    "ExecuteTime": {
     "end_time": "2020-10-03T08:27:42.889284Z",
     "start_time": "2020-10-03T08:27:36.422581Z"
    }
   },
   "outputs": [
    {
     "data": {
      "text/plain": [
       "Pipeline(memory=None,\n",
       "         steps=[('vectorizer',\n",
       "                 TfidfVectorizer(analyzer='word', binary=False,\n",
       "                                 decode_error='strict',\n",
       "                                 dtype=<class 'numpy.float64'>,\n",
       "                                 encoding='utf-8', input='content',\n",
       "                                 lowercase=True, max_df=1.0, max_features=None,\n",
       "                                 min_df=1, ngram_range=(1, 1), norm='l2',\n",
       "                                 preprocessor=None, smooth_idf=True,\n",
       "                                 stop_words='english', strip_accents=None,\n",
       "                                 sublinear_tf=False,\n",
       "                                 token...\n",
       "                                                     multi_class='ovr',\n",
       "                                                     penalty='l2',\n",
       "                                                     random_state=None,\n",
       "                                                     tol=0.0001, verbose=0),\n",
       "                                 max_features=None, norm_order=1, prefit=False,\n",
       "                                 threshold=None)),\n",
       "                ('classifier',\n",
       "                 LinearSVC(C=1.0, class_weight=None, dual=True,\n",
       "                           fit_intercept=True, intercept_scaling=1,\n",
       "                           loss='squared_hinge', max_iter=1000,\n",
       "                           multi_class='ovr', penalty='l2', random_state=None,\n",
       "                           tol=0.0001, verbose=0))],\n",
       "         verbose=False)"
      ]
     },
     "execution_count": 18,
     "metadata": {},
     "output_type": "execute_result"
    }
   ],
   "source": [
    "from sklearn.pipeline import Pipeline\n",
    "from sklearn.feature_extraction.text import TfidfVectorizer\n",
    "from sklearn.feature_selection import SelectFromModel\n",
    "from sklearn.naive_bayes import MultinomialNB\n",
    "from sklearn.svm import LinearSVC\n",
    "from sklearn import metrics\n",
    "\n",
    "# Naïve Bayes Model:\n",
    "text_clf_nb = Pipeline([('vectorizer', TfidfVectorizer(stop_words='english')),\n",
    "                        ('feature_selector', SelectFromModel(MultinomialNB())),\n",
    "                     ('classifier', MultinomialNB()),\n",
    "])\n",
    "\n",
    "# Linear SVC Model:\n",
    "text_clf_lsvc = Pipeline([('vectorizer', TfidfVectorizer(stop_words='english')),\n",
    "                          ('feature_selector', SelectFromModel(LinearSVC())),\n",
    "                     ('classifier', LinearSVC()),\n",
    "])\n",
    "\n",
    "# Train both models on the moviereviews.tsv training set:\n",
    "text_clf_nb.fit(X_train, y_train)\n",
    "text_clf_lsvc.fit(X_train, y_train)"
   ]
  },
  {
   "cell_type": "code",
   "execution_count": 19,
   "metadata": {
    "ExecuteTime": {
     "end_time": "2020-10-03T08:27:43.681164Z",
     "start_time": "2020-10-03T08:27:42.892275Z"
    }
   },
   "outputs": [],
   "source": [
    "# Form a prediction set\n",
    "predictions = text_clf_nb.predict(X_test)\n"
   ]
  },
  {
   "cell_type": "code",
   "execution_count": 20,
   "metadata": {
    "ExecuteTime": {
     "end_time": "2020-10-03T08:27:43.703107Z",
     "start_time": "2020-10-03T08:27:43.683160Z"
    }
   },
   "outputs": [
    {
     "name": "stdout",
     "output_type": "stream",
     "text": [
      "[[699 114]\n",
      " [352 414]]\n"
     ]
    }
   ],
   "source": [
    "# Report the confusion matrix\n",
    "from sklearn import metrics\n",
    "print(metrics.confusion_matrix(y_test,predictions))\n"
   ]
  },
  {
   "cell_type": "code",
   "execution_count": 21,
   "metadata": {
    "ExecuteTime": {
     "end_time": "2020-10-03T08:27:43.894595Z",
     "start_time": "2020-10-03T08:27:43.706104Z"
    }
   },
   "outputs": [
    {
     "name": "stdout",
     "output_type": "stream",
     "text": [
      "              precision    recall  f1-score   support\n",
      "\n",
      "         neg       0.67      0.86      0.75       813\n",
      "         pos       0.78      0.54      0.64       766\n",
      "\n",
      "    accuracy                           0.70      1579\n",
      "   macro avg       0.72      0.70      0.69      1579\n",
      "weighted avg       0.72      0.70      0.70      1579\n",
      "\n"
     ]
    }
   ],
   "source": [
    "# Print a classification report\n",
    "print(metrics.classification_report(y_test,predictions))"
   ]
  },
  {
   "cell_type": "code",
   "execution_count": 22,
   "metadata": {
    "ExecuteTime": {
     "end_time": "2020-10-03T08:27:43.981363Z",
     "start_time": "2020-10-03T08:27:43.897588Z"
    }
   },
   "outputs": [
    {
     "name": "stdout",
     "output_type": "stream",
     "text": [
      "0.7048765041165295\n"
     ]
    }
   ],
   "source": [
    "# Print the overall accuracy\n",
    "print(metrics.accuracy_score(y_test,predictions))"
   ]
  },
  {
   "cell_type": "code",
   "execution_count": 23,
   "metadata": {
    "ExecuteTime": {
     "end_time": "2020-10-03T08:27:44.788204Z",
     "start_time": "2020-10-03T08:27:43.989341Z"
    }
   },
   "outputs": [],
   "source": [
    "# Form a prediction set\n",
    "predictions = text_clf_lsvc.predict(X_test)"
   ]
  },
  {
   "cell_type": "code",
   "execution_count": 24,
   "metadata": {
    "ExecuteTime": {
     "end_time": "2020-10-03T08:27:44.815134Z",
     "start_time": "2020-10-03T08:27:44.794189Z"
    }
   },
   "outputs": [
    {
     "name": "stdout",
     "output_type": "stream",
     "text": [
      "[[733  80]\n",
      " [ 54 712]]\n"
     ]
    }
   ],
   "source": [
    "# Report the confusion matrix\n",
    "from sklearn import metrics\n",
    "print(metrics.confusion_matrix(y_test,predictions))"
   ]
  },
  {
   "cell_type": "code",
   "execution_count": 25,
   "metadata": {
    "ExecuteTime": {
     "end_time": "2020-10-03T08:27:45.035543Z",
     "start_time": "2020-10-03T08:27:44.818125Z"
    }
   },
   "outputs": [
    {
     "name": "stdout",
     "output_type": "stream",
     "text": [
      "              precision    recall  f1-score   support\n",
      "\n",
      "         neg       0.93      0.90      0.92       813\n",
      "         pos       0.90      0.93      0.91       766\n",
      "\n",
      "    accuracy                           0.92      1579\n",
      "   macro avg       0.92      0.92      0.92      1579\n",
      "weighted avg       0.92      0.92      0.92      1579\n",
      "\n"
     ]
    }
   ],
   "source": [
    "# Print a classification report\n",
    "print(metrics.classification_report(y_test,predictions))"
   ]
  },
  {
   "cell_type": "code",
   "execution_count": 26,
   "metadata": {
    "ExecuteTime": {
     "end_time": "2020-10-03T08:27:45.077432Z",
     "start_time": "2020-10-03T08:27:45.038537Z"
    }
   },
   "outputs": [
    {
     "name": "stdout",
     "output_type": "stream",
     "text": [
      "0.915136162127929\n"
     ]
    }
   ],
   "source": [
    "# Print the overall accuracy\n",
    "print(metrics.accuracy_score(y_test,predictions))"
   ]
  },
  {
   "cell_type": "markdown",
   "metadata": {},
   "source": [
    "#### write your own review"
   ]
  },
  {
   "cell_type": "code",
   "execution_count": 27,
   "metadata": {
    "ExecuteTime": {
     "end_time": "2020-10-03T08:27:45.166194Z",
     "start_time": "2020-10-03T08:27:45.080424Z"
    }
   },
   "outputs": [],
   "source": [
    "#try these\n",
    "#movie I really wanted to love was terrible.I'm sure the producers had the best intentions, but the execution was lacking.\n",
    "#this is a great movie\n",
    "#this is not a great movie\n",
    "#not a good movie\n",
    "\n",
    "\n",
    "myreview = \"movie I really wanted to love was terrible.I'm sure the producers had the best intentions, but the execution was lacking\""
   ]
  },
  {
   "cell_type": "code",
   "execution_count": 28,
   "metadata": {
    "ExecuteTime": {
     "end_time": "2020-10-03T08:27:45.306818Z",
     "start_time": "2020-10-03T08:27:45.168189Z"
    }
   },
   "outputs": [
    {
     "name": "stdout",
     "output_type": "stream",
     "text": [
      "['pos']\n"
     ]
    }
   ],
   "source": [
    "print(text_clf_nb.predict([myreview])) "
   ]
  },
  {
   "cell_type": "code",
   "execution_count": 29,
   "metadata": {
    "ExecuteTime": {
     "end_time": "2020-10-03T08:27:45.438465Z",
     "start_time": "2020-10-03T08:27:45.312803Z"
    }
   },
   "outputs": [
    {
     "name": "stdout",
     "output_type": "stream",
     "text": [
      "['neg']\n"
     ]
    }
   ],
   "source": [
    "print(text_clf_lsvc.predict([myreview]))"
   ]
  },
  {
   "cell_type": "code",
   "execution_count": null,
   "metadata": {},
   "outputs": [],
   "source": []
  }
 ],
 "metadata": {
  "kernelspec": {
   "display_name": "Python 3",
   "language": "python",
   "name": "python3"
  },
  "language_info": {
   "codemirror_mode": {
    "name": "ipython",
    "version": 3
   },
   "file_extension": ".py",
   "mimetype": "text/x-python",
   "name": "python",
   "nbconvert_exporter": "python",
   "pygments_lexer": "ipython3",
   "version": "3.7.7"
  },
  "toc": {
   "base_numbering": 1,
   "nav_menu": {},
   "number_sections": true,
   "sideBar": true,
   "skip_h1_title": false,
   "title_cell": "Table of Contents",
   "title_sidebar": "Contents",
   "toc_cell": false,
   "toc_position": {},
   "toc_section_display": true,
   "toc_window_display": false
  },
  "varInspector": {
   "cols": {
    "lenName": 16,
    "lenType": 16,
    "lenVar": 40
   },
   "kernels_config": {
    "python": {
     "delete_cmd_postfix": "",
     "delete_cmd_prefix": "del ",
     "library": "var_list.py",
     "varRefreshCmd": "print(var_dic_list())"
    },
    "r": {
     "delete_cmd_postfix": ") ",
     "delete_cmd_prefix": "rm(",
     "library": "var_list.r",
     "varRefreshCmd": "cat(var_dic_list()) "
    }
   },
   "types_to_exclude": [
    "module",
    "function",
    "builtin_function_or_method",
    "instance",
    "_Feature"
   ],
   "window_display": false
  }
 },
 "nbformat": 4,
 "nbformat_minor": 2
}
